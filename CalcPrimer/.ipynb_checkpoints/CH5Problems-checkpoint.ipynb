{
 "cells": [
  {
   "cell_type": "code",
   "execution_count": 1,
   "metadata": {},
   "outputs": [],
   "source": [
    "using DataStructures"
   ]
  },
  {
   "cell_type": "code",
   "execution_count": 2,
   "metadata": {},
   "outputs": [
    {
     "data": {
      "text/plain": [
       "bond_yield_newton (generic function with 1 method)"
      ]
     },
     "execution_count": 2,
     "metadata": {},
     "output_type": "execute_result"
    }
   ],
   "source": [
    "function bond_yield_newton(;B::Float64, \n",
    "        t_cash_flow::Array{Float64,1}, \n",
    "        v_cash_flow::Array{Float64,1},\n",
    "        tol::Float64 = 1e-6) where T <:OrderedDict\n",
    "\n",
    "    x_0 = 0.10 # intial gues of 10% YTM\n",
    "\n",
    "    x_new = x_0\n",
    "    x_old = x_0-1\n",
    "\n",
    "    while abs(x_new - x_old) > tol\n",
    "\n",
    "        x_old = x_new\n",
    "\n",
    "        computed_price = sum(v_cash_flow .* exp.(-x_old .* t_cash_flow))\n",
    "        deriv_at_yield = sum(-t_cash_flow .* v_cash_flow .* exp.(-x_old .* t_cash_flow))\n",
    "\n",
    "        x_new = x_old - (computed_price - B)/deriv_at_yield\n",
    "\n",
    "    end\n",
    "\n",
    "    yield = x_new\n",
    "    duration = -1*sum(-t_cash_flow .* v_cash_flow .* exp.(-yield .* t_cash_flow))/B\n",
    "    convexity = sum(t_cash_flow.^2 .* v_cash_flow .* exp.(-yield .* t_cash_flow))/B\n",
    "\n",
    "    out = OrderedDict(\"yield\"=>yield, \n",
    "        \"duration\"=>duration,\n",
    "        \"convexity\"=>convexity)\n",
    "    \n",
    "    return out\n",
    "end"
   ]
  },
  {
   "cell_type": "code",
   "execution_count": 3,
   "metadata": {},
   "outputs": [
    {
     "data": {
      "text/plain": [
       "OrderedDict{String,Float64} with 3 entries:\n",
       "  \"yield\"     => 0.0334011\n",
       "  \"duration\"  => 4.64274\n",
       "  \"convexity\" => 22.5731"
      ]
     },
     "execution_count": 3,
     "metadata": {},
     "output_type": "execute_result"
    }
   ],
   "source": [
    "## Problem 1 ##\n",
    "bond_yield_newton(\n",
    "    B = 100 + 1/32,\n",
    "    t_cash_flow = collect(.5:.5:5),\n",
    "    v_cash_flow = repeat([3.375/2],10) .+ vcat(repeat([0],9),100.0)\n",
    ")"
   ]
  },
  {
   "cell_type": "code",
   "execution_count": 4,
   "metadata": {},
   "outputs": [
    {
     "name": "stdout",
     "output_type": "stream",
     "text": [
      "Price is 104.17391064895597"
     ]
    },
    {
     "data": {
      "text/plain": [
       "OrderedDict{String,Float64} with 3 entries:\n",
       "  \"yield\"     => 0.0567923\n",
       "  \"duration\"  => 1.89011\n",
       "  \"convexity\" => 3.6895"
      ]
     },
     "execution_count": 4,
     "metadata": {},
     "output_type": "execute_result"
    }
   ],
   "source": [
    "## Problem 2 ##\n",
    "t_cash_flow = collect(.5:.5:2.0)\n",
    "v_cash_flow = repeat([8.0/2],4) .+ vcat(repeat([0],3),100.0)\n",
    "\n",
    "price = sum(v_cash_flow ./ exp.(t_cash_flow .* map(x -> (0.05 + 0.01*log(1+x/2)), t_cash_flow)))\n",
    "\n",
    "print(\"Price is $price\")\n",
    "\n",
    "bond_yield_newton(\n",
    "    B = price,\n",
    "    t_cash_flow = t_cash_flow,\n",
    "    v_cash_flow = v_cash_flow\n",
    ")"
   ]
  }
 ],
 "metadata": {
  "kernelspec": {
   "display_name": "Julia 1.0.2",
   "language": "julia",
   "name": "julia-1.0"
  },
  "language_info": {
   "file_extension": ".jl",
   "mimetype": "application/julia",
   "name": "julia",
   "version": "1.0.2"
  }
 },
 "nbformat": 4,
 "nbformat_minor": 2
}
